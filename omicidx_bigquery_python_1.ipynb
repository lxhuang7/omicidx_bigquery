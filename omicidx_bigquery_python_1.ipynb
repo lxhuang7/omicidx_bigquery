{
  "nbformat": 4,
  "nbformat_minor": 0,
  "metadata": {
    "kernelspec": {
      "display_name": "omicidx_examples",
      "language": "python",
      "name": "omicidx_examples"
    },
    "language_info": {
      "codemirror_mode": {
        "name": "ipython",
        "version": 3
      },
      "file_extension": ".py",
      "mimetype": "text/x-python",
      "name": "python",
      "nbconvert_exporter": "python",
      "pygments_lexer": "ipython3",
      "version": "3.7.1"
    },
    "colab": {
      "name": "omicidx_bigquery_python_1.ipynb",
      "version": "0.3.2",
      "provenance": [],
      "include_colab_link": true
    }
  },
  "cells": [
    {
      "cell_type": "markdown",
      "metadata": {
        "id": "view-in-github",
        "colab_type": "text"
      },
      "source": [
        "<a href=\"https://colab.research.google.com/github/lxhuang7/omicidx_bigquery/blob/master/omicidx_bigquery_python_1.ipynb\" target=\"_parent\"><img src=\"https://colab.research.google.com/assets/colab-badge.svg\" alt=\"Open In Colab\"/></a>"
      ]
    },
    {
      "cell_type": "markdown",
      "metadata": {
        "id": "O_dL3XL310fh",
        "colab_type": "text"
      },
      "source": [
        "---\n",
        "title: \"OmicIDX on BigQuery\"\n",
        "date: \"2019-06-04\"\n",
        "---"
      ]
    },
    {
      "cell_type": "markdown",
      "metadata": {
        "id": "IRs5_XWh10fk",
        "colab_type": "text"
      },
      "source": [
        "*Availability*: This ipython notebook is available at https://github.com/seandavi/omicidx_examples.\n",
        "\n",
        "OmicIDX is a project to democratize access to omics *metadata*. As the sizes of omics\n",
        "repositories have grown into the millions of available samples, thinking of the \n",
        "metadata themselves as **Big Data** seems reasonable. Additionally, by making the \n",
        "metadata more fit-for-use for text mining, natural language processing, ingestion into\n",
        "machine learning or search engines, OmicIDX aims to facilitate augmentation and analysis\n",
        "of these metadata. \n",
        "\n",
        "In practice, the OmicIDX mines data from the NCBI [Sequence Read Archive (SRA)] (updated monthly) and\n",
        "NCBI [Biosample] databases (updated daily). \n",
        "\n",
        "[Biosample]: https://www.ncbi.nlm.nih.gov/biosample/\n",
        "[Sequence Read Archive (SRA)]: https://trace.ncbi.nlm.nih.gov/Traces/sra/sra.cgi?\n",
        "\n",
        "## What is BigQuery?\n",
        "\n",
        "[BigQuery] is an enterprise data warehouse and database. It is managed by Google, meaning\n",
        "there are no servers to set up, storage to manage, or configuration. Access to data stored in \n",
        "BigQuery can be public, limited to individuals, or to just the owner. \n",
        "\n",
        "In the case of OmicIDX, the data in BigQuery are publicly accessible. Querying the data\n",
        "still requires an account and billing to be activated, but Google offers free credits to \n",
        "new users that will allow *many* queries against the OmicIDX data.\n",
        "\n",
        "# Getting started\n",
        "\n",
        "Before using BigQuery in python, one needs to create an account with Google and activate the\n",
        "BigQuery engine. \n",
        "\n",
        "**See [here](https://cloud.google.com/bigquery/docs/quickstarts/quickstart-web-ui) for the quickstart\n",
        "tutorial. (5 minutes)**\n",
        "\n",
        "After completing the quickstart, navigate to:\n",
        "\n",
        "https://console.cloud.google.com/bigquery?project=isb-cgc-01-0006&folder&organizationId&p=isb-cgc-01-0006&d=omicidx&page=dataset\n",
        "\n",
        "On the left panel, you should now see the `isb-cgc-01-0006` project. Expanding that item, the `omicidx` \n",
        "dataset is available. \n",
        "\n",
        "At this point, explore the OmicIDX data via the Google Console. BigQuery uses standard SQL \n",
        "for queries. \n",
        "\n",
        "# Python access to BigQuery\n",
        "\n",
        "- Install [google-cloud-bigquery](https://cloud.google.com/bigquery/docs/reference/libraries) and follow instructions\n",
        "go get started.\n",
        "\n",
        "Note that while I am using python here, BigQuery client libraries are available for \n",
        "many languages. A command-line client (bq) is also available for shell scripting, etc.\n",
        "\n",
        "# Examples\n",
        "\n",
        "From here on out, the code can speak for itself. For more details on using BigQuery from python, check out the [documentation](https://googleapis.github.io/google-cloud-python/latest/bigquery/index.html)"
      ]
    },
    {
      "cell_type": "markdown",
      "metadata": {
        "id": "R432b10R2iYX",
        "colab_type": "text"
      },
      "source": [
        "## Authentication\n",
        "\n",
        "Before proceeding, you will likely need to obtain authorization to use Bigquery resources. The following quick code block will perform authentication. If you have set up a Google Cloud Project and enabled Bigquery, once authenticated, you should be able to proceed with the rest of the code."
      ]
    },
    {
      "cell_type": "code",
      "metadata": {
        "id": "mjBYunsS2tQ7",
        "colab_type": "code",
        "colab": {}
      },
      "source": [
        "from google.colab import auth\n",
        "auth.authenticate_user()"
      ],
      "execution_count": 0,
      "outputs": []
    },
    {
      "cell_type": "code",
      "metadata": {
        "id": "HP-RlHtP10ft",
        "colab_type": "code",
        "colab": {}
      },
      "source": [
        "from google.cloud import bigquery"
      ],
      "execution_count": 0,
      "outputs": []
    },
    {
      "cell_type": "code",
      "metadata": {
        "id": "7rOZkPqf10fw",
        "colab_type": "code",
        "colab": {}
      },
      "source": [
        "import warnings\n",
        "warnings.filterwarnings('ignore')"
      ],
      "execution_count": 0,
      "outputs": []
    },
    {
      "cell_type": "code",
      "metadata": {
        "id": "s1J9GNlr10fz",
        "colab_type": "code",
        "colab": {}
      },
      "source": [
        "from google.auth import credentials\n",
        "MY_PROJECT = \"isb-cgc-01-0006\"\n",
        "client = bigquery.Client(project = MY_PROJECT)"
      ],
      "execution_count": 0,
      "outputs": []
    },
    {
      "cell_type": "markdown",
      "metadata": {
        "id": "2waADuIQ10f1",
        "colab_type": "text"
      },
      "source": [
        "## Studies published by year"
      ]
    },
    {
      "cell_type": "code",
      "metadata": {
        "id": "hlQMEsk110f2",
        "colab_type": "code",
        "colab": {}
      },
      "source": [
        "sql_query = \"\"\"\n",
        "SELECT \n",
        "    DATE(\n",
        "    EXTRACT(YEAR FROM published),\n",
        "    EXTRACT(MONTH FROM published),\n",
        "    1) as month,\n",
        "    count(*) as studies\n",
        "FROM `isb-cgc-01-0006.omicidx.sra_study` \n",
        "where published <= CURRENT_DATETIME()\n",
        "GROUP BY month\n",
        "ORDER BY month desc;\n",
        "\"\"\""
      ],
      "execution_count": 0,
      "outputs": []
    },
    {
      "cell_type": "markdown",
      "metadata": {
        "id": "iq6rWJ_h10f4",
        "colab_type": "text"
      },
      "source": [
        "Here, use a convenience method to convert results to a pandas dataframe. "
      ]
    },
    {
      "cell_type": "code",
      "metadata": {
        "id": "YJWKeVlY10f4",
        "colab_type": "code",
        "colab": {}
      },
      "source": [
        "res = client.query(sql_query).to_dataframe()"
      ],
      "execution_count": 0,
      "outputs": []
    },
    {
      "cell_type": "code",
      "metadata": {
        "id": "9AQ1Sivu10f6",
        "colab_type": "code",
        "outputId": "4701c42e-0b5d-4635-f1aa-9f2485468932",
        "colab": {
          "base_uri": "https://localhost:8080/",
          "height": 204
        }
      },
      "source": [
        "res.head()"
      ],
      "execution_count": 0,
      "outputs": [
        {
          "output_type": "execute_result",
          "data": {
            "text/html": [
              "<div>\n",
              "<style scoped>\n",
              "    .dataframe tbody tr th:only-of-type {\n",
              "        vertical-align: middle;\n",
              "    }\n",
              "\n",
              "    .dataframe tbody tr th {\n",
              "        vertical-align: top;\n",
              "    }\n",
              "\n",
              "    .dataframe thead th {\n",
              "        text-align: right;\n",
              "    }\n",
              "</style>\n",
              "<table border=\"1\" class=\"dataframe\">\n",
              "  <thead>\n",
              "    <tr style=\"text-align: right;\">\n",
              "      <th></th>\n",
              "      <th>month</th>\n",
              "      <th>studies</th>\n",
              "    </tr>\n",
              "  </thead>\n",
              "  <tbody>\n",
              "    <tr>\n",
              "      <th>0</th>\n",
              "      <td>2019-08-01</td>\n",
              "      <td>320</td>\n",
              "    </tr>\n",
              "    <tr>\n",
              "      <th>1</th>\n",
              "      <td>2019-07-01</td>\n",
              "      <td>4946</td>\n",
              "    </tr>\n",
              "    <tr>\n",
              "      <th>2</th>\n",
              "      <td>2019-06-01</td>\n",
              "      <td>2800</td>\n",
              "    </tr>\n",
              "    <tr>\n",
              "      <th>3</th>\n",
              "      <td>2019-05-01</td>\n",
              "      <td>5595</td>\n",
              "    </tr>\n",
              "    <tr>\n",
              "      <th>4</th>\n",
              "      <td>2019-04-01</td>\n",
              "      <td>4227</td>\n",
              "    </tr>\n",
              "  </tbody>\n",
              "</table>\n",
              "</div>"
            ],
            "text/plain": [
              "        month  studies\n",
              "0  2019-08-01      320\n",
              "1  2019-07-01     4946\n",
              "2  2019-06-01     2800\n",
              "3  2019-05-01     5595\n",
              "4  2019-04-01     4227"
            ]
          },
          "metadata": {
            "tags": []
          },
          "execution_count": 13
        }
      ]
    },
    {
      "cell_type": "markdown",
      "metadata": {
        "id": "VzrND8QB10f-",
        "colab_type": "text"
      },
      "source": [
        "The [seaborn](https://seaborn.pydata.org/) library is a high-level plotting library based on matplotlib. "
      ]
    },
    {
      "cell_type": "code",
      "metadata": {
        "id": "sdJP1t2U10f_",
        "colab_type": "code",
        "outputId": "132a1ed9-e556-42a4-b590-98c67af317de",
        "colab": {
          "base_uri": "https://localhost:8080/",
          "height": 517
        }
      },
      "source": [
        "import matplotlib.pyplot as plt\n",
        "plt.figure(figsize=(16, 8))\n",
        "import seaborn as sns\n",
        "sns.scatterplot(x = \"month\", y = \"studies\", data = res)"
      ],
      "execution_count": 0,
      "outputs": [
        {
          "output_type": "execute_result",
          "data": {
            "text/plain": [
              "<matplotlib.axes._subplots.AxesSubplot at 0x7f0ed96132e8>"
            ]
          },
          "metadata": {
            "tags": []
          },
          "execution_count": 14
        },
        {
          "output_type": "display_data",
          "data": {
            "image/png": "[encoded data removed]",
            "text/plain": [
              "<Figure size 1152x576 with 1 Axes>"
            ]
          },
          "metadata": {
            "tags": []
          }
        }
      ]
    },
    {
      "cell_type": "markdown",
      "metadata": {
        "id": "goe9IA-j10gC",
        "colab_type": "text"
      },
      "source": [
        "## Experiments by type\n",
        "\n",
        "The `sra_experiment` table contains most of the details about the experimental\n",
        "strategies. In particular, the `library_strategy` column "
      ]
    },
    {
      "cell_type": "code",
      "metadata": {
        "id": "Eugs_qc_10gD",
        "colab_type": "code",
        "colab": {}
      },
      "source": [
        "sql_query = \"\"\"\n",
        "SELECT library_strategy, count(*) as count\n",
        "FROM `isb-cgc-01-0006.omicidx.sra_experiment`\n",
        "GROUP BY library_strategy \n",
        "ORDER BY count desc\"\"\""
      ],
      "execution_count": 0,
      "outputs": []
    },
    {
      "cell_type": "code",
      "metadata": {
        "id": "9htRtT2w10gF",
        "colab_type": "code",
        "colab": {}
      },
      "source": [
        "res = client.query(sql_query).to_dataframe()"
      ],
      "execution_count": 0,
      "outputs": []
    },
    {
      "cell_type": "code",
      "metadata": {
        "id": "T5z4Srfy10gH",
        "colab_type": "code",
        "outputId": "2d01ebb7-fcb5-45f2-a4b5-45061bdfba8c",
        "colab": {
          "base_uri": "https://localhost:8080/",
          "height": 514
        }
      },
      "source": [
        "res.head(15)"
      ],
      "execution_count": 0,
      "outputs": [
        {
          "output_type": "execute_result",
          "data": {
            "text/html": [
              "<div>\n",
              "<style scoped>\n",
              "    .dataframe tbody tr th:only-of-type {\n",
              "        vertical-align: middle;\n",
              "    }\n",
              "\n",
              "    .dataframe tbody tr th {\n",
              "        vertical-align: top;\n",
              "    }\n",
              "\n",
              "    .dataframe thead th {\n",
              "        text-align: right;\n",
              "    }\n",
              "</style>\n",
              "<table border=\"1\" class=\"dataframe\">\n",
              "  <thead>\n",
              "    <tr style=\"text-align: right;\">\n",
              "      <th></th>\n",
              "      <th>library_strategy</th>\n",
              "      <th>count</th>\n",
              "    </tr>\n",
              "  </thead>\n",
              "  <tbody>\n",
              "    <tr>\n",
              "      <th>0</th>\n",
              "      <td>WGS</td>\n",
              "      <td>2009363</td>\n",
              "    </tr>\n",
              "    <tr>\n",
              "      <th>1</th>\n",
              "      <td>AMPLICON</td>\n",
              "      <td>1673786</td>\n",
              "    </tr>\n",
              "    <tr>\n",
              "      <th>2</th>\n",
              "      <td>RNA-Seq</td>\n",
              "      <td>1514562</td>\n",
              "    </tr>\n",
              "    <tr>\n",
              "      <th>3</th>\n",
              "      <td>OTHER</td>\n",
              "      <td>633967</td>\n",
              "    </tr>\n",
              "    <tr>\n",
              "      <th>4</th>\n",
              "      <td>WXS</td>\n",
              "      <td>325872</td>\n",
              "    </tr>\n",
              "    <tr>\n",
              "      <th>5</th>\n",
              "      <td>ChIP-Seq</td>\n",
              "      <td>145301</td>\n",
              "    </tr>\n",
              "    <tr>\n",
              "      <th>6</th>\n",
              "      <td>CLONE</td>\n",
              "      <td>136051</td>\n",
              "    </tr>\n",
              "    <tr>\n",
              "      <th>7</th>\n",
              "      <td>RAD-Seq</td>\n",
              "      <td>83911</td>\n",
              "    </tr>\n",
              "    <tr>\n",
              "      <th>8</th>\n",
              "      <td>Targeted-Capture</td>\n",
              "      <td>64917</td>\n",
              "    </tr>\n",
              "    <tr>\n",
              "      <th>9</th>\n",
              "      <td>POOLCLONE</td>\n",
              "      <td>57933</td>\n",
              "    </tr>\n",
              "    <tr>\n",
              "      <th>10</th>\n",
              "      <td>Bisulfite-Seq</td>\n",
              "      <td>53125</td>\n",
              "    </tr>\n",
              "    <tr>\n",
              "      <th>11</th>\n",
              "      <td>miRNA-Seq</td>\n",
              "      <td>46232</td>\n",
              "    </tr>\n",
              "    <tr>\n",
              "      <th>12</th>\n",
              "      <td>ATAC-seq</td>\n",
              "      <td>37631</td>\n",
              "    </tr>\n",
              "    <tr>\n",
              "      <th>13</th>\n",
              "      <td>WGA</td>\n",
              "      <td>37540</td>\n",
              "    </tr>\n",
              "    <tr>\n",
              "      <th>14</th>\n",
              "      <td>SELEX</td>\n",
              "      <td>30148</td>\n",
              "    </tr>\n",
              "  </tbody>\n",
              "</table>\n",
              "</div>"
            ],
            "text/plain": [
              "    library_strategy    count\n",
              "0                WGS  2009363\n",
              "1           AMPLICON  1673786\n",
              "2            RNA-Seq  1514562\n",
              "3              OTHER   633967\n",
              "4                WXS   325872\n",
              "5           ChIP-Seq   145301\n",
              "6              CLONE   136051\n",
              "7            RAD-Seq    83911\n",
              "8   Targeted-Capture    64917\n",
              "9          POOLCLONE    57933\n",
              "10     Bisulfite-Seq    53125\n",
              "11         miRNA-Seq    46232\n",
              "12          ATAC-seq    37631\n",
              "13               WGA    37540\n",
              "14             SELEX    30148"
            ]
          },
          "metadata": {
            "tags": []
          },
          "execution_count": 17
        }
      ]
    },
    {
      "cell_type": "markdown",
      "metadata": {
        "id": "E7ghOSzc10gJ",
        "colab_type": "text"
      },
      "source": [
        "## Number of \"cancer\" studies\n",
        "\n",
        "BigQuery is a capable system even for full text searching. In this case,\n",
        "the `abstract`, `title`, and `description` fields for a study contain the \n",
        "largest amount of free text. Searching each separately is a possibility, \n",
        "but BigQuery has a `CONCAT` operator that can build up a single long string\n",
        "for search. Converting that string to all lower-case (using `LOWER`) facilitates\n",
        "case-insensitive search for `cancer`. Note that in SQL, the wildcard character\n",
        "is `%`. "
      ]
    },
    {
      "cell_type": "code",
      "metadata": {
        "id": "wSK1d7od10gK",
        "colab_type": "code",
        "colab": {}
      },
      "source": [
        "sql_query = \"\"\"\n",
        "SELECT count(*) as count\n",
        "FROM `isb-cgc-01-0006.omicidx.sra_study`\n",
        "WHERE LOWER(CONCAT(abstract, \" \", title, \" \", description)) like '%cancer%'\n",
        "\"\"\""
      ],
      "execution_count": 0,
      "outputs": []
    },
    {
      "cell_type": "code",
      "metadata": {
        "id": "urkBD9eK10gM",
        "colab_type": "code",
        "colab": {}
      },
      "source": [
        "res = client.query(sql_query).to_dataframe()"
      ],
      "execution_count": 0,
      "outputs": []
    },
    {
      "cell_type": "code",
      "metadata": {
        "id": "CCACpreP10gO",
        "colab_type": "code",
        "outputId": "c30993f3-daaf-40a0-a2eb-3eb96ceabfce",
        "colab": {
          "base_uri": "https://localhost:8080/",
          "height": 34
        }
      },
      "source": [
        "print(\"There are {0} studies in which `cancer`  appears in the title, abstract, or description\".format( res['count'][0]))"
      ],
      "execution_count": 0,
      "outputs": [
        {
          "output_type": "stream",
          "text": [
            "There are 770 studies in which `cancer`  appears in the title, abstract, or description\n"
          ],
          "name": "stdout"
        }
      ]
    },
    {
      "cell_type": "markdown",
      "metadata": {
        "id": "xfBvj5zm10gS",
        "colab_type": "text"
      },
      "source": [
        "## Distribution of number of attributes per sample\n",
        "\n",
        "The `sra_sample` table contains most of the metadata that are associated with\n",
        "the \"phenotype\" or \"characteristics\" of the sample. The sample attributes are \n",
        "included in a \"nested column\" in BigQuery. The array length\n",
        "of that the `attributes` column then gives the number of distinct attributes \n",
        "for each sample. While pulling those results, one-per-sample, back into python\n",
        "is one way to proceed, writing a SQL query that creates the histogram for us\n",
        "will be more efficient."
      ]
    },
    {
      "cell_type": "code",
      "metadata": {
        "id": "bXmjO45e10gT",
        "colab_type": "code",
        "colab": {}
      },
      "source": [
        "sql_query = \"\"\"\n",
        "with t as\n",
        "  (SELECT array_length(attributes) as attribute_count\n",
        "  FROM `isb-cgc-01-0006.omicidx.sra_sample`) \n",
        "SELECT t.attribute_count, count(*) as nbr_of_samples\n",
        "  FROM t\n",
        "  GROUP BY attribute_count\n",
        "  ORDER BY attribute_count asc\n",
        "\"\"\""
      ],
      "execution_count": 0,
      "outputs": []
    },
    {
      "cell_type": "code",
      "metadata": {
        "id": "8Jj-Vmwq10gV",
        "colab_type": "code",
        "colab": {}
      },
      "source": [
        "res = client.query(sql_query).to_dataframe()"
      ],
      "execution_count": 0,
      "outputs": []
    },
    {
      "cell_type": "code",
      "metadata": {
        "id": "9VJdPtsq10gW",
        "colab_type": "code",
        "outputId": "a3e56ff0-a314-4cab-be7a-0dab9b157c47",
        "colab": {
          "base_uri": "https://localhost:8080/",
          "height": 501
        }
      },
      "source": [
        "plt.figure(figsize=(16, 8))\n",
        "g = sns.scatterplot(x=\"attribute_count\", y=\"nbr_of_samples\", data=res)\n",
        "g.set_yscale('log')\n",
        "plt.show()"
      ],
      "execution_count": 0,
      "outputs": [
        {
          "output_type": "display_data",
          "data": {
            "image/png": "[encoded data removed]",
            "text/plain": [
              "<Figure size 1152x576 with 1 Axes>"
            ]
          },
          "metadata": {
            "tags": []
          }
        }
      ]
    },
    {
      "cell_type": "markdown",
      "metadata": {
        "id": "50f4XOKf10gY",
        "colab_type": "text"
      },
      "source": [
        "# Conclusion\n",
        "\n",
        "This little post is just to whet the appetite. BigQuery is a new technology\n",
        "for many informatics folks, but it is quite powerful, extensible, and is\n",
        "nearly free for datasets of even modest size. With libraries for R, python, \n",
        "java, as well as a simple command-line client, access to OmicIDX in BigQuery\n",
        "is well-supported.\n",
        "\n",
        "Other approaches to accessing OmicIDX data are forthcoming. "
      ]
    }
  ]
}